{
 "cells": [
  {
   "cell_type": "markdown",
   "id": "48574939",
   "metadata": {},
   "source": [
    "This is the template for the image recognition exercise. <Br>\n",
    "Some **general instructions**, read these carefully:\n",
    " - The final assignment is returned as a clear and understandable *report*\n",
    "    - define shortly the concepts and explain the phases you use\n",
    "    - use the Markdown feature of the notebook for larger explanations\n",
    " - return your output as a *working* Jupyter notebook\n",
    " - name your file as Exercise_MLPR2023_Partx_uuid.jpynb\n",
    "    - use the uuid code determined below\n",
    "    - use this same code for each part of the assignment\n",
    " - write easily readable code with comments     \n",
    "     - if you exploit code from web, provide a reference\n",
    " - it is ok to discuss with a friend about the assignment. But it is not ok to copy someone's work. Everyone should submit their own implementation\n",
    "     - in case of identical submissions, both submissions are failed "
   ]
  },
  {
   "cell_type": "markdown",
   "id": "0bfbc2b3",
   "metadata": {},
   "source": [
    "**Deadlines:**\n",
    "- Part 1: Mon 6.2 at 23:59**\n",
    "- Part 2: Mon 20.2 at 23:59**\n",
    "- Part 3: Mon 6.3 at 23:59**\n",
    "\n",
    "**No extensions for the deadlines** <br>\n",
    "- after each deadline, example results are given, and it is not possible to submit anymore\n",
    "\n",
    "**If you encounter problems, Google first and if you can’t find an answer, ask for help**\n",
    "- Moodle area for questions\n",
    "- pekavir@utu.fi\n",
    "- teacher available for questions on Mondays 30.1, 13.2 (after lecture) and Thursday 2.3 (at lecture)"
   ]
  },
  {
   "cell_type": "markdown",
   "id": "ea03f4ab",
   "metadata": {},
   "source": [
    "**Grading**\n",
    "\n",
    "The exercise covers a part of the grading in this course. The course exam has 5 questions, 6 points of each. Exercise gives 6 points, i.e. the total score is 36 points.\n",
    "\n",
    "From the template below, you can see how many exercise points can be acquired from each task. Exam points are given according to the table below: <br>\n",
    "<br>\n",
    "7 exercise points: 1 exam point <br>\n",
    "8 exercise points: 2 exam points <br>\n",
    "9 exercise points: 3 exam points <br>\n",
    "10 exercise points: 4 exam points <br>\n",
    "11 exercise points: 5 exam points <br>\n",
    "12 exercise points: 6 exam points <br>\n",
    "<br>\n",
    "To pass the exercise, you need at least 7 exercise points, and at least 1 exercise point from each Part.\n",
    "    \n",
    "Each student will grade one submission from a peer and their own submission. After each Part deadline, example results are given. Study them carefully and perform the grading according to the given instructions. Mean value from the peer grading and self-grading is used for the final points. "
   ]
  },
  {
   "cell_type": "code",
   "execution_count": 1,
   "id": "20913a7e",
   "metadata": {},
   "outputs": [
    {
     "name": "stdout",
     "output_type": "stream",
     "text": [
      "The id code is: 41a9ddd6-bc55-11ed-807e-8eab187be911\n"
     ]
    }
   ],
   "source": [
    "import uuid\n",
    "# Run this cell only once and save the code. Use the same id code for each Part.\n",
    "# Printing random id using uuid1()\n",
    "print (\"The id code is: \",end=\"\")\n",
    "print (uuid.uuid1())"
   ]
  },
  {
   "cell_type": "markdown",
   "id": "3ce21d52",
   "metadata": {},
   "source": [
    "# Introduction (1 p)"
   ]
  },
  {
   "cell_type": "markdown",
   "id": "35ca8979",
   "metadata": {},
   "source": [
    "Write an introductory chapter for your report\n",
    "<br>\n",
    "- Explain what is the purpose of this task?\n",
    "- Describe, what kind of data were used? Where did it originate? Give correct reference.\n",
    "- Which methods did you use?\n",
    "- Describe shortly the results"
   ]
  },
  {
   "cell_type": "markdown",
   "id": "9d49e7d2",
   "metadata": {},
   "source": [
    "# Part 2"
   ]
  },
  {
   "cell_type": "markdown",
   "id": "cbec0706",
   "metadata": {},
   "source": [
    "Data exploration and model selection"
   ]
  },
  {
   "cell_type": "markdown",
   "id": "9d85ec88",
   "metadata": {},
   "source": [
    "# Part 3"
   ]
  },
  {
   "cell_type": "markdown",
   "id": "d973b1d7",
   "metadata": {},
   "source": [
    "## Performance estimation (2 p)"
   ]
  },
  {
   "cell_type": "markdown",
   "id": "3929defa",
   "metadata": {},
   "source": [
    "Use the previously gathered data (again, use the standardized features). <br>\n",
    "Estimate the performance of each model using nested cross validation. Use 10-fold cross validation for outer and <br>\n",
    "5-fold repeated cross validation with 3 repetitions for inner loop.  <br> \n",
    "Select the best model in the inner loop using the hyperparameter combinations and ranges defined in the Part 2. <br>\n",
    "For each model, calculate the accuracy and the confusion matrix. <br> \n",
    "Which hyperparameter/hyperparameter combination is most often chosen as the best one for each classifier? "
   ]
  },
  {
   "cell_type": "markdown",
   "id": "85f896a1",
   "metadata": {},
   "source": [
    "## Discussion (2 p)"
   ]
  },
  {
   "cell_type": "markdown",
   "id": "18c6e2e9",
   "metadata": {},
   "source": [
    "Discuss you results\n",
    "\n",
    "- Which model performs the best? Why?\n",
    "- Ponder the limitations and generalization of the models. How well will the classifiers perform for data outside this data set?\n",
    "- Compare your results with the original article. Are they comparable?\n",
    "- Ponder applications for these type of models (classifying rice or other plant species), who could benefit from them? Ponder also what would be interesting to study more on this area?\n",
    "- What did you learn? What was difficult? Could you improve your own working process in some way?"
   ]
  },
  {
   "cell_type": "code",
   "execution_count": 2,
   "id": "5c839eed",
   "metadata": {},
   "outputs": [],
   "source": [
    "import pandas as pd\n",
    "import numpy as np\n",
    "from sklearn.preprocessing import StandardScaler \n",
    "import seaborn as sns\n",
    "import matplotlib.pyplot as plt\n",
    "from sklearn.decomposition import PCA\n",
    "from sklearn.preprocessing import MinMaxScaler\n",
    "from sklearn.model_selection import train_test_split\n",
    "from sklearn.model_selection import RepeatedKFold\n",
    "from sklearn.neighbors import KNeighborsClassifier\n",
    "from sklearn.model_selection import GridSearchCV\n",
    "from sklearn.metrics import accuracy_score\n",
    "from sklearn.neural_network import MLPClassifier\n",
    "from sklearn.model_selection import cross_val_score\n",
    "from statistics import mean\n",
    "from sklearn.ensemble import RandomForestClassifier\n",
    "import warnings\n",
    "from sklearn.metrics import confusion_matrix\n",
    "from sklearn import metrics\n",
    "from sklearn.model_selection import KFold"
   ]
  },
  {
   "cell_type": "code",
   "execution_count": 3,
   "id": "d9b08000",
   "metadata": {},
   "outputs": [
    {
     "data": {
      "text/html": [
       "<div>\n",
       "<style scoped>\n",
       "    .dataframe tbody tr th:only-of-type {\n",
       "        vertical-align: middle;\n",
       "    }\n",
       "\n",
       "    .dataframe tbody tr th {\n",
       "        vertical-align: top;\n",
       "    }\n",
       "\n",
       "    .dataframe thead th {\n",
       "        text-align: right;\n",
       "    }\n",
       "</style>\n",
       "<table border=\"1\" class=\"dataframe\">\n",
       "  <thead>\n",
       "    <tr style=\"text-align: right;\">\n",
       "      <th></th>\n",
       "      <th>mean_b</th>\n",
       "      <th>var_b</th>\n",
       "      <th>skew_b</th>\n",
       "      <th>kurt_b</th>\n",
       "      <th>entr_b</th>\n",
       "      <th>mean_g</th>\n",
       "      <th>var_g</th>\n",
       "      <th>skew_g</th>\n",
       "      <th>kurt_g</th>\n",
       "      <th>entr_g</th>\n",
       "      <th>...</th>\n",
       "      <th>skew_r</th>\n",
       "      <th>kurt_r</th>\n",
       "      <th>entr_r</th>\n",
       "      <th>major_axis_length</th>\n",
       "      <th>minor_axis_length</th>\n",
       "      <th>area</th>\n",
       "      <th>perimeter</th>\n",
       "      <th>roundness</th>\n",
       "      <th>aspect_ratio</th>\n",
       "      <th>class</th>\n",
       "    </tr>\n",
       "  </thead>\n",
       "  <tbody>\n",
       "    <tr>\n",
       "      <th>0</th>\n",
       "      <td>199.057107</td>\n",
       "      <td>4370.334017</td>\n",
       "      <td>-2.526412</td>\n",
       "      <td>4.854400</td>\n",
       "      <td>5.725611</td>\n",
       "      <td>188.949223</td>\n",
       "      <td>3968.899444</td>\n",
       "      <td>-2.489574</td>\n",
       "      <td>4.737988</td>\n",
       "      <td>5.789305</td>\n",
       "      <td>...</td>\n",
       "      <td>0.460606</td>\n",
       "      <td>-0.030300</td>\n",
       "      <td>5.751699</td>\n",
       "      <td>139.177719</td>\n",
       "      <td>67.960999</td>\n",
       "      <td>7418.0</td>\n",
       "      <td>362.818322</td>\n",
       "      <td>0.708139</td>\n",
       "      <td>2.047906</td>\n",
       "      <td>Arb</td>\n",
       "    </tr>\n",
       "    <tr>\n",
       "      <th>1</th>\n",
       "      <td>193.564744</td>\n",
       "      <td>3838.877309</td>\n",
       "      <td>-2.632029</td>\n",
       "      <td>5.449509</td>\n",
       "      <td>5.512506</td>\n",
       "      <td>189.985695</td>\n",
       "      <td>3734.693284</td>\n",
       "      <td>-2.587030</td>\n",
       "      <td>5.290814</td>\n",
       "      <td>5.620109</td>\n",
       "      <td>...</td>\n",
       "      <td>0.124742</td>\n",
       "      <td>0.246564</td>\n",
       "      <td>5.604786</td>\n",
       "      <td>133.097137</td>\n",
       "      <td>67.545555</td>\n",
       "      <td>6857.5</td>\n",
       "      <td>351.747255</td>\n",
       "      <td>0.696489</td>\n",
       "      <td>1.970480</td>\n",
       "      <td>Arb</td>\n",
       "    </tr>\n",
       "    <tr>\n",
       "      <th>2</th>\n",
       "      <td>211.430105</td>\n",
       "      <td>4253.600921</td>\n",
       "      <td>-2.799676</td>\n",
       "      <td>6.282459</td>\n",
       "      <td>5.609050</td>\n",
       "      <td>207.637314</td>\n",
       "      <td>4127.164001</td>\n",
       "      <td>-2.769280</td>\n",
       "      <td>6.175553</td>\n",
       "      <td>5.723262</td>\n",
       "      <td>...</td>\n",
       "      <td>-0.173684</td>\n",
       "      <td>-0.535170</td>\n",
       "      <td>5.691047</td>\n",
       "      <td>140.141525</td>\n",
       "      <td>70.338005</td>\n",
       "      <td>7423.0</td>\n",
       "      <td>364.190906</td>\n",
       "      <td>0.703285</td>\n",
       "      <td>1.992401</td>\n",
       "      <td>Arb</td>\n",
       "    </tr>\n",
       "    <tr>\n",
       "      <th>3</th>\n",
       "      <td>192.371917</td>\n",
       "      <td>4374.677145</td>\n",
       "      <td>-2.433318</td>\n",
       "      <td>4.327595</td>\n",
       "      <td>5.582211</td>\n",
       "      <td>187.144271</td>\n",
       "      <td>4157.929194</td>\n",
       "      <td>-2.413273</td>\n",
       "      <td>4.268942</td>\n",
       "      <td>5.599329</td>\n",
       "      <td>...</td>\n",
       "      <td>0.570922</td>\n",
       "      <td>-0.191927</td>\n",
       "      <td>5.599732</td>\n",
       "      <td>126.872337</td>\n",
       "      <td>61.993542</td>\n",
       "      <td>6096.5</td>\n",
       "      <td>327.261972</td>\n",
       "      <td>0.715318</td>\n",
       "      <td>2.046541</td>\n",
       "      <td>Arb</td>\n",
       "    </tr>\n",
       "    <tr>\n",
       "      <th>4</th>\n",
       "      <td>198.096162</td>\n",
       "      <td>3729.119794</td>\n",
       "      <td>-2.798684</td>\n",
       "      <td>6.272908</td>\n",
       "      <td>5.492145</td>\n",
       "      <td>194.080341</td>\n",
       "      <td>3612.771094</td>\n",
       "      <td>-2.754433</td>\n",
       "      <td>6.107209</td>\n",
       "      <td>5.586000</td>\n",
       "      <td>...</td>\n",
       "      <td>0.241334</td>\n",
       "      <td>0.682523</td>\n",
       "      <td>5.559394</td>\n",
       "      <td>135.600327</td>\n",
       "      <td>70.952782</td>\n",
       "      <td>7421.0</td>\n",
       "      <td>359.019333</td>\n",
       "      <td>0.723497</td>\n",
       "      <td>1.911135</td>\n",
       "      <td>Arb</td>\n",
       "    </tr>\n",
       "    <tr>\n",
       "      <th>...</th>\n",
       "      <td>...</td>\n",
       "      <td>...</td>\n",
       "      <td>...</td>\n",
       "      <td>...</td>\n",
       "      <td>...</td>\n",
       "      <td>...</td>\n",
       "      <td>...</td>\n",
       "      <td>...</td>\n",
       "      <td>...</td>\n",
       "      <td>...</td>\n",
       "      <td>...</td>\n",
       "      <td>...</td>\n",
       "      <td>...</td>\n",
       "      <td>...</td>\n",
       "      <td>...</td>\n",
       "      <td>...</td>\n",
       "      <td>...</td>\n",
       "      <td>...</td>\n",
       "      <td>...</td>\n",
       "      <td>...</td>\n",
       "      <td>...</td>\n",
       "    </tr>\n",
       "    <tr>\n",
       "      <th>295</th>\n",
       "      <td>199.174473</td>\n",
       "      <td>5891.909855</td>\n",
       "      <td>-2.187297</td>\n",
       "      <td>2.850294</td>\n",
       "      <td>4.585445</td>\n",
       "      <td>190.771941</td>\n",
       "      <td>5412.518242</td>\n",
       "      <td>-2.181198</td>\n",
       "      <td>2.836350</td>\n",
       "      <td>4.644147</td>\n",
       "      <td>...</td>\n",
       "      <td>1.368763</td>\n",
       "      <td>1.081424</td>\n",
       "      <td>4.617680</td>\n",
       "      <td>148.539764</td>\n",
       "      <td>43.357121</td>\n",
       "      <td>4879.5</td>\n",
       "      <td>342.717816</td>\n",
       "      <td>0.522050</td>\n",
       "      <td>3.425960</td>\n",
       "      <td>Jas</td>\n",
       "    </tr>\n",
       "    <tr>\n",
       "      <th>296</th>\n",
       "      <td>187.794485</td>\n",
       "      <td>4556.494959</td>\n",
       "      <td>-2.373298</td>\n",
       "      <td>3.791280</td>\n",
       "      <td>4.976055</td>\n",
       "      <td>181.282682</td>\n",
       "      <td>4253.125209</td>\n",
       "      <td>-2.365083</td>\n",
       "      <td>3.770836</td>\n",
       "      <td>4.922925</td>\n",
       "      <td>...</td>\n",
       "      <td>1.605892</td>\n",
       "      <td>1.646148</td>\n",
       "      <td>4.906881</td>\n",
       "      <td>154.202957</td>\n",
       "      <td>45.328251</td>\n",
       "      <td>5181.5</td>\n",
       "      <td>344.717816</td>\n",
       "      <td>0.547946</td>\n",
       "      <td>3.401917</td>\n",
       "      <td>Jas</td>\n",
       "    </tr>\n",
       "    <tr>\n",
       "      <th>297</th>\n",
       "      <td>199.366926</td>\n",
       "      <td>5506.401941</td>\n",
       "      <td>-2.289285</td>\n",
       "      <td>3.319354</td>\n",
       "      <td>4.704367</td>\n",
       "      <td>188.118482</td>\n",
       "      <td>4914.260086</td>\n",
       "      <td>-2.278159</td>\n",
       "      <td>3.292082</td>\n",
       "      <td>4.820746</td>\n",
       "      <td>...</td>\n",
       "      <td>1.479758</td>\n",
       "      <td>1.191782</td>\n",
       "      <td>4.789066</td>\n",
       "      <td>151.572372</td>\n",
       "      <td>46.113976</td>\n",
       "      <td>5291.0</td>\n",
       "      <td>347.906636</td>\n",
       "      <td>0.549316</td>\n",
       "      <td>3.286908</td>\n",
       "      <td>Jas</td>\n",
       "    </tr>\n",
       "    <tr>\n",
       "      <th>298</th>\n",
       "      <td>188.160995</td>\n",
       "      <td>5116.081971</td>\n",
       "      <td>-2.218283</td>\n",
       "      <td>3.018641</td>\n",
       "      <td>4.837608</td>\n",
       "      <td>177.044129</td>\n",
       "      <td>4533.145771</td>\n",
       "      <td>-2.214500</td>\n",
       "      <td>3.009809</td>\n",
       "      <td>4.777169</td>\n",
       "      <td>...</td>\n",
       "      <td>1.752831</td>\n",
       "      <td>1.857270</td>\n",
       "      <td>4.884398</td>\n",
       "      <td>156.195450</td>\n",
       "      <td>46.311100</td>\n",
       "      <td>5504.0</td>\n",
       "      <td>359.563489</td>\n",
       "      <td>0.534979</td>\n",
       "      <td>3.372743</td>\n",
       "      <td>Jas</td>\n",
       "    </tr>\n",
       "    <tr>\n",
       "      <th>299</th>\n",
       "      <td>179.014085</td>\n",
       "      <td>4420.693464</td>\n",
       "      <td>-2.293999</td>\n",
       "      <td>3.346850</td>\n",
       "      <td>4.538722</td>\n",
       "      <td>173.580986</td>\n",
       "      <td>4161.732878</td>\n",
       "      <td>-2.288565</td>\n",
       "      <td>3.331388</td>\n",
       "      <td>4.574976</td>\n",
       "      <td>...</td>\n",
       "      <td>1.896943</td>\n",
       "      <td>2.356550</td>\n",
       "      <td>4.569411</td>\n",
       "      <td>149.216934</td>\n",
       "      <td>46.937897</td>\n",
       "      <td>5252.0</td>\n",
       "      <td>344.960457</td>\n",
       "      <td>0.554621</td>\n",
       "      <td>3.179029</td>\n",
       "      <td>Jas</td>\n",
       "    </tr>\n",
       "  </tbody>\n",
       "</table>\n",
       "<p>300 rows × 22 columns</p>\n",
       "</div>"
      ],
      "text/plain": [
       "         mean_b        var_b    skew_b    kurt_b    entr_b      mean_g  \\\n",
       "0    199.057107  4370.334017 -2.526412  4.854400  5.725611  188.949223   \n",
       "1    193.564744  3838.877309 -2.632029  5.449509  5.512506  189.985695   \n",
       "2    211.430105  4253.600921 -2.799676  6.282459  5.609050  207.637314   \n",
       "3    192.371917  4374.677145 -2.433318  4.327595  5.582211  187.144271   \n",
       "4    198.096162  3729.119794 -2.798684  6.272908  5.492145  194.080341   \n",
       "..          ...          ...       ...       ...       ...         ...   \n",
       "295  199.174473  5891.909855 -2.187297  2.850294  4.585445  190.771941   \n",
       "296  187.794485  4556.494959 -2.373298  3.791280  4.976055  181.282682   \n",
       "297  199.366926  5506.401941 -2.289285  3.319354  4.704367  188.118482   \n",
       "298  188.160995  5116.081971 -2.218283  3.018641  4.837608  177.044129   \n",
       "299  179.014085  4420.693464 -2.293999  3.346850  4.538722  173.580986   \n",
       "\n",
       "           var_g    skew_g    kurt_g    entr_g  ...    skew_r    kurt_r  \\\n",
       "0    3968.899444 -2.489574  4.737988  5.789305  ...  0.460606 -0.030300   \n",
       "1    3734.693284 -2.587030  5.290814  5.620109  ...  0.124742  0.246564   \n",
       "2    4127.164001 -2.769280  6.175553  5.723262  ... -0.173684 -0.535170   \n",
       "3    4157.929194 -2.413273  4.268942  5.599329  ...  0.570922 -0.191927   \n",
       "4    3612.771094 -2.754433  6.107209  5.586000  ...  0.241334  0.682523   \n",
       "..           ...       ...       ...       ...  ...       ...       ...   \n",
       "295  5412.518242 -2.181198  2.836350  4.644147  ...  1.368763  1.081424   \n",
       "296  4253.125209 -2.365083  3.770836  4.922925  ...  1.605892  1.646148   \n",
       "297  4914.260086 -2.278159  3.292082  4.820746  ...  1.479758  1.191782   \n",
       "298  4533.145771 -2.214500  3.009809  4.777169  ...  1.752831  1.857270   \n",
       "299  4161.732878 -2.288565  3.331388  4.574976  ...  1.896943  2.356550   \n",
       "\n",
       "       entr_r  major_axis_length  minor_axis_length    area   perimeter  \\\n",
       "0    5.751699         139.177719          67.960999  7418.0  362.818322   \n",
       "1    5.604786         133.097137          67.545555  6857.5  351.747255   \n",
       "2    5.691047         140.141525          70.338005  7423.0  364.190906   \n",
       "3    5.599732         126.872337          61.993542  6096.5  327.261972   \n",
       "4    5.559394         135.600327          70.952782  7421.0  359.019333   \n",
       "..        ...                ...                ...     ...         ...   \n",
       "295  4.617680         148.539764          43.357121  4879.5  342.717816   \n",
       "296  4.906881         154.202957          45.328251  5181.5  344.717816   \n",
       "297  4.789066         151.572372          46.113976  5291.0  347.906636   \n",
       "298  4.884398         156.195450          46.311100  5504.0  359.563489   \n",
       "299  4.569411         149.216934          46.937897  5252.0  344.960457   \n",
       "\n",
       "     roundness  aspect_ratio  class  \n",
       "0     0.708139      2.047906    Arb  \n",
       "1     0.696489      1.970480    Arb  \n",
       "2     0.703285      1.992401    Arb  \n",
       "3     0.715318      2.046541    Arb  \n",
       "4     0.723497      1.911135    Arb  \n",
       "..         ...           ...    ...  \n",
       "295   0.522050      3.425960    Jas  \n",
       "296   0.547946      3.401917    Jas  \n",
       "297   0.549316      3.286908    Jas  \n",
       "298   0.534979      3.372743    Jas  \n",
       "299   0.554621      3.179029    Jas  \n",
       "\n",
       "[300 rows x 22 columns]"
      ]
     },
     "execution_count": 3,
     "metadata": {},
     "output_type": "execute_result"
    }
   ],
   "source": [
    "df=pd.read_csv('notebooks/training_data/rice_feature_data.csv')\n",
    "\n",
    "del df['Unnamed: 0']\n",
    "del df['class_int']\n",
    "df"
   ]
  },
  {
   "cell_type": "code",
   "execution_count": 4,
   "id": "3353c37e",
   "metadata": {},
   "outputs": [],
   "source": [
    "feats = ['mean_b', 'var_b', 'skew_b', 'kurt_b', 'entr_b', 'mean_g', 'var_g',\n",
    "       'skew_g', 'kurt_g', 'entr_g', 'mean_r', 'var_r', 'skew_r', 'kurt_r',\n",
    "       'entr_r', 'major_axis_length', 'minor_axis_length', 'area', 'perimeter',\n",
    "       'roundness', 'aspect_ratio']\n",
    "\n",
    "# Z-Score using pandas\n",
    "for feat in feats:\n",
    "    df['{}_Z'.format(feat)] = (df[feat] - df[feat].mean()) / df[feat].std()\n",
    "    \n",
    "feats_Z = [feat + '_Z' for feat in feats]"
   ]
  },
  {
   "cell_type": "code",
   "execution_count": 5,
   "id": "dc007259",
   "metadata": {},
   "outputs": [],
   "source": [
    "y = df['class'].values\n",
    "X = df[feats_Z].values"
   ]
  },
  {
   "cell_type": "code",
   "execution_count": 6,
   "id": "b346c9f9",
   "metadata": {},
   "outputs": [
    {
     "data": {
      "text/plain": [
       "3"
      ]
     },
     "execution_count": 6,
     "metadata": {},
     "output_type": "execute_result"
    }
   ],
   "source": [
    "warnings.filterwarnings('ignore')\n",
    "\n",
    "k_range=range(1,30)\n",
    "cv_inner = RepeatedKFold(n_splits=5, n_repeats=3, random_state=50)\n",
    "\n",
    "# knn\n",
    "knn = KNeighborsClassifier()\n",
    "parameters={'n_neighbors': k_range}\n",
    "gscv_knn = GridSearchCV(knn, parameters, cv=cv_inner, return_train_score=False)\n",
    "gscv_knn.fit(X,y)\n",
    "gscv_knn.best_params_['n_neighbors']"
   ]
  },
  {
   "cell_type": "code",
   "execution_count": 7,
   "id": "89916c68",
   "metadata": {},
   "outputs": [
    {
     "name": "stdout",
     "output_type": "stream",
     "text": [
      "Accuracy: 0.990 (0.021)\n"
     ]
    }
   ],
   "source": [
    "knn = KNeighborsClassifier(n_neighbors = 3)\n",
    "knn.fit(X, y)\n",
    "\n",
    "cv_outer = KFold(n_splits=10, shuffle=True, random_state=1)\n",
    "\n",
    "scores = cross_val_score(knn, X, y, cv=cv_outer)\n",
    "# report performance\n",
    "print('Accuracy: %.3f (%.3f)' % (mean(scores), np.std(scores)))"
   ]
  },
  {
   "cell_type": "code",
   "execution_count": 8,
   "id": "43920ab6",
   "metadata": {},
   "outputs": [
    {
     "data": {
      "text/plain": [
       "array([[99,  1,  0],\n",
       "       [ 0, 99,  1],\n",
       "       [ 0,  1, 99]])"
      ]
     },
     "execution_count": 8,
     "metadata": {},
     "output_type": "execute_result"
    }
   ],
   "source": [
    "y_pred=knn.predict(X)\n",
    "metrics.confusion_matrix(y, y_pred)"
   ]
  },
  {
   "cell_type": "code",
   "execution_count": 9,
   "id": "0e342148",
   "metadata": {},
   "outputs": [
    {
     "name": "stdout",
     "output_type": "stream",
     "text": [
      "Best hyperparameter combination:\n",
      "Max_depth: 6\n",
      "Max_features: 5\n"
     ]
    }
   ],
   "source": [
    "#random forest\n",
    "\n",
    "max_depths = [2, 4, 6, 8, 10, 12]\n",
    "max_features = [2, 3, 4, 5, 6, 7, 8]\n",
    "parameters={'max_depth': max_depths,\n",
    "           'max_features': max_features}\n",
    "\n",
    "clf = RandomForestClassifier(random_state=20)\n",
    "kf = RepeatedKFold(n_splits=5, n_repeats=3, random_state=5)\n",
    "\n",
    "gscv_rf = GridSearchCV(clf, parameters, cv=kf, return_train_score=False, n_jobs=-1)\n",
    "gscv_rf.fit(X,y)\n",
    "print('Best hyperparameter combination:')\n",
    "print('Max_depth:', gscv_rf.best_params_['max_depth'])\n",
    "print('Max_features:', gscv_rf.best_params_['max_features'])"
   ]
  },
  {
   "cell_type": "code",
   "execution_count": 10,
   "id": "b8e54438",
   "metadata": {},
   "outputs": [
    {
     "name": "stdout",
     "output_type": "stream",
     "text": [
      "Accuracy: 0.987 (0.022)\n"
     ]
    }
   ],
   "source": [
    "rf = RandomForestClassifier(max_depth=6, max_features=5)\n",
    "rf.fit(X, y)\n",
    "\n",
    "cv_outer = KFold(n_splits=10, shuffle=True, random_state=1)\n",
    "\n",
    "scores = cross_val_score(rf, X, y, cv=cv_outer)\n",
    "# report performance\n",
    "print('Accuracy: %.3f (%.3f)' % (mean(scores), np.std(scores)))"
   ]
  },
  {
   "cell_type": "code",
   "execution_count": 11,
   "id": "9355ba72",
   "metadata": {},
   "outputs": [
    {
     "data": {
      "text/plain": [
       "array([[100,   0,   0],\n",
       "       [  0, 100,   0],\n",
       "       [  0,   0, 100]])"
      ]
     },
     "execution_count": 11,
     "metadata": {},
     "output_type": "execute_result"
    }
   ],
   "source": [
    "y_pred=rf.predict(X)\n",
    "metrics.confusion_matrix(y, y_pred)"
   ]
  },
  {
   "cell_type": "code",
   "execution_count": 12,
   "id": "cde7f454",
   "metadata": {},
   "outputs": [
    {
     "name": "stdout",
     "output_type": "stream",
     "text": [
      "Best hyperparameter combination:\n"
     ]
    },
    {
     "data": {
      "text/plain": [
       "{'activation': 'relu',\n",
       " 'hidden_layer_sizes': (14,),\n",
       " 'solver': 'adam',\n",
       " 'validation_fraction': 0.5}"
      ]
     },
     "execution_count": 12,
     "metadata": {},
     "output_type": "execute_result"
    }
   ],
   "source": [
    "#mlp\n",
    "\n",
    "mlp = MLPClassifier(max_iter=500, early_stopping=True, random_state=20)\n",
    "\n",
    "hidden_layer_sizes = [(i,) for i in range(3,22)]\n",
    "activation = ['logistic', 'relu']\n",
    "solver = ['sgd', 'adam']\n",
    "val_fr = [0.1, 0.5]\n",
    "\n",
    "parameter_space = {\n",
    "    'hidden_layer_sizes': hidden_layer_sizes,\n",
    "    'activation': activation,\n",
    "    'solver': solver,\n",
    "    'validation_fraction': val_fr\n",
    "}\n",
    "\n",
    "kf = RepeatedKFold(n_splits=5, n_repeats=3, random_state=5)\n",
    "# select the best hyperparameter set\n",
    "gscv = GridSearchCV(mlp, parameter_space, cv=cv_inner)\n",
    "gscv.fit(X, y)\n",
    "print('Best hyperparameter combination:')\n",
    "gscv.best_params_"
   ]
  },
  {
   "cell_type": "code",
   "execution_count": 13,
   "id": "dd5da74f",
   "metadata": {},
   "outputs": [
    {
     "name": "stdout",
     "output_type": "stream",
     "text": [
      "Accuracy: 0.983 (0.022)\n"
     ]
    }
   ],
   "source": [
    "clf = MLPClassifier(solver='adam', activation = 'relu',\n",
    "                    hidden_layer_sizes=(14,), validation_fraction=0.5)\n",
    "\n",
    "clf.fit(X,y)\n",
    "\n",
    "cv_outer = KFold(n_splits=10, shuffle=True, random_state=1)\n",
    "scores = cross_val_score(clf, X, y, cv=cv_outer)\n",
    "# report performance\n",
    "print('Accuracy: %.3f (%.3f)' % (mean(scores), np.std(scores)))"
   ]
  },
  {
   "cell_type": "code",
   "execution_count": 14,
   "id": "5586f8e7",
   "metadata": {},
   "outputs": [
    {
     "data": {
      "text/plain": [
       "array([[ 99,   1,   0],\n",
       "       [  0,  99,   1],\n",
       "       [  0,   0, 100]])"
      ]
     },
     "execution_count": 14,
     "metadata": {},
     "output_type": "execute_result"
    }
   ],
   "source": [
    "y_pred=clf.predict(X)\n",
    "metrics.confusion_matrix(y, y_pred)"
   ]
  },
  {
   "cell_type": "code",
   "execution_count": 15,
   "id": "da36c8c0",
   "metadata": {},
   "outputs": [],
   "source": [
    "# The Random Forest model performed the best.\n",
    "# One reason why Random Forest can perform well in image processing is that it can handle high-dimensional input data, \n",
    "# such as images, which have a large number of features. \n",
    "# Random Forest can effectively reduce the dimensionality of the input data by selecting a subset of features \n",
    "# at each node of the decision tree, which helps to reduce the risk of overfitting and \n",
    "# improve the model's generalization performance.\n",
    "\n",
    "# Another reason why Random Forest can perform well in image processing is that it is able to \n",
    "# capture non-linear relationships between the input features and the output classes. \n",
    "# This is important in image classification and segmentation tasks, where the relationship \n",
    "# between the input features and the output classes can be highly complex and non-linear.\n",
    "\n",
    "# Finally, Random Forest is also able to handle missing data and outliers, \n",
    "# which can be common in image processing tasks. Random Forest can use the information from the other decision trees \n",
    "# in the ensemble to fill in missing data and reduce the impact of outliers, \n",
    "# which can help to improve the model's robustness and performance.\n",
    "\n",
    "#Machine learning models have limitations and generalization issues that can affect their performance \n",
    "#and applicability in real-world scenarios. Some of these limitations and generalization issues include:\n",
    "#Overfitting: Overfitting occurs when the model is too complex and captures noise \n",
    "#in the training data rather than the underlying patterns. This can lead to poor performance on new, unseen data.\n",
    "#Underfitting: Underfitting occurs when the model is too simple and does not capture the underlying patterns \n",
    "#in the data. This can lead to poor performance on both the training and test data.\n",
    "\n",
    "# The image technology can be used to classify rice in the rice industry, \n",
    "# or it can be used as a technology to quickly identify animal species with animal data sets. \n",
    "# It would also be interesting to implement real-time image processing by combining it with computer vision \n",
    "# in this field.\n",
    "\n",
    "# Part 1 was a little difficult. \n",
    "# However, I felt that the difficulty level became easier as I moved on to part2. \n",
    "# However, I was a little lost because it was my first time encountering hyperparameter tuning. \n",
    "# Still, as I continued to try and learn about hyperparameter tuning, I was able to easily fulfill the task in part 3.\n",
    "# I think that if you continue to practice using actual data in the future, your skills will be better than now.\n"
   ]
  }
 ],
 "metadata": {
  "kernelspec": {
   "display_name": "Python 3 (ipykernel)",
   "language": "python",
   "name": "python3"
  },
  "language_info": {
   "codemirror_mode": {
    "name": "ipython",
    "version": 3
   },
   "file_extension": ".py",
   "mimetype": "text/x-python",
   "name": "python",
   "nbconvert_exporter": "python",
   "pygments_lexer": "ipython3",
   "version": "3.9.13"
  },
  "toc": {
   "base_numbering": 1,
   "nav_menu": {},
   "number_sections": true,
   "sideBar": true,
   "skip_h1_title": false,
   "title_cell": "Table of Contents",
   "title_sidebar": "Contents",
   "toc_cell": false,
   "toc_position": {
    "height": "calc(100% - 180px)",
    "left": "10px",
    "top": "150px",
    "width": "232px"
   },
   "toc_section_display": true,
   "toc_window_display": true
  }
 },
 "nbformat": 4,
 "nbformat_minor": 5
}
